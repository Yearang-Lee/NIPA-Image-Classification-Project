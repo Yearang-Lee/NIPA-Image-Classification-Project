{
 "cells": [
  {
   "cell_type": "markdown",
   "metadata": {},
   "source": [
    "# train 데이터 클래스 별 분류"
   ]
  },
  {
   "cell_type": "code",
   "execution_count": 2,
   "metadata": {},
   "outputs": [],
   "source": [
    "cls = {(3,5):0,(3,20):1,(4,2):2,(4,7):3,(4,11):4,(5,8):5,(7,1):6,\n",
    "       (7,20):7,(8,6):8,(8,9):9,(10,20):10,(11,14):11,(13,1):12,\n",
    "       (13,6):13,(13,9):14,(13,15):15,(13,16):16,(13,17):17,(13,18):18,(13,20):19}"
   ]
  },
  {
   "cell_type": "code",
   "execution_count": 3,
   "metadata": {},
   "outputs": [
    {
     "name": "stdout",
     "output_type": "stream",
     "text": [
      "dct {'10': 800, '11': 800, '15': 800, '16': 800, '17': 800, '18': 800, '12': 800, '19': 800, '13': 800, '14': 800, '1': 800, '0': 800, '4': 800, '2': 800, '3': 800, '5': 800, '6': 800, '7': 800, '8': 800, '9': 800}\n",
      "n: 16000\n"
     ]
    }
   ],
   "source": [
    "import os, shutil\n",
    "\n",
    "#os.chdir('./testing')#C:\\Users\\piai\\Documents\\Competition\n",
    "\n",
    "os.chdir('C:/Users/piai/Desktop/Contest/NIPA')\n",
    "lst = []\n",
    "dct = {}\n",
    "n = 0 \n",
    "for f in os.listdir(\"train\"):\n",
    "    if not f == 'train.tsv':\n",
    "        n+=1\n",
    "        folderName = str(cls[int(f.split('_')[0]),int(f.split('_')[1])])\n",
    "        if folderName in dct:\n",
    "            dct[folderName] += 1\n",
    "        else:\n",
    "            dct[folderName] = 1\n",
    "        \n",
    "# print(len(lst))\n",
    "# print(lst)\n",
    "        if not os.path.exists(folderName):\n",
    "            os.mkdir(folderName)\n",
    "            shutil.copy(os.path.join('train', f), folderName)\n",
    "        else:\n",
    "            shutil.copy(os.path.join('train', f), folderName)\n",
    "print('dct',dct)\n",
    "print('n:',n)"
   ]
  }
 ],
 "metadata": {
  "colab": {
   "collapsed_sections": [],
   "name": "image_classification_윤슬아.ipynb",
   "provenance": [
    {
     "file_id": "1FdHDeRbrUmGl3YO4VDU1noRTipcF4z8y",
     "timestamp": 1603529594650
    }
   ]
  },
  "kernelspec": {
   "display_name": "Python 3",
   "language": "python",
   "name": "python3"
  },
  "language_info": {
   "codemirror_mode": {
    "name": "ipython",
    "version": 3
   },
   "file_extension": ".py",
   "mimetype": "text/x-python",
   "name": "python",
   "nbconvert_exporter": "python",
   "pygments_lexer": "ipython3",
   "version": "3.7.9"
  }
 },
 "nbformat": 4,
 "nbformat_minor": 1
}
